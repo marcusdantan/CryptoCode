{
 "cells": [
  {
   "cell_type": "code",
   "execution_count": 1,
   "metadata": {},
   "outputs": [],
   "source": [
    "import pandas as pd\n",
    "import time\n",
    "import seaborn as sns\n",
    "import matplotlib.pyplot as plt\n",
    "import datetime\n",
    "import numpy as np\n",
    "import statsmodels.formula.api as smf\n",
    "from pandas.plotting import scatter_matrix\n",
    "from mpl_toolkits import mplot3d #for 3d analysis\n",
    "import statistics\n",
    "from functools import reduce\n",
    "from sklearn import linear_model\n",
    "from scipy.stats import norm"
   ]
  },
  {
   "cell_type": "code",
   "execution_count": 2,
   "metadata": {},
   "outputs": [
    {
     "name": "stdout",
     "output_type": "stream",
     "text": [
      "Requirement already satisfied: cryptocmd in /Users/marcus/opt/anaconda3/lib/python3.8/site-packages (0.6.0)\n",
      "Requirement already satisfied: tablib in /Users/marcus/opt/anaconda3/lib/python3.8/site-packages (from cryptocmd) (3.0.0)\n",
      "Requirement already satisfied: requests in /Users/marcus/opt/anaconda3/lib/python3.8/site-packages (from cryptocmd) (2.24.0)\n",
      "Requirement already satisfied: urllib3!=1.25.0,!=1.25.1,<1.26,>=1.21.1 in /Users/marcus/opt/anaconda3/lib/python3.8/site-packages (from requests->cryptocmd) (1.25.9)\n",
      "Requirement already satisfied: chardet<4,>=3.0.2 in /Users/marcus/opt/anaconda3/lib/python3.8/site-packages (from requests->cryptocmd) (3.0.4)\n",
      "Requirement already satisfied: certifi>=2017.4.17 in /Users/marcus/opt/anaconda3/lib/python3.8/site-packages (from requests->cryptocmd) (2020.6.20)\n",
      "Requirement already satisfied: idna<3,>=2.5 in /Users/marcus/opt/anaconda3/lib/python3.8/site-packages (from requests->cryptocmd) (2.10)\n",
      "Note: you may need to restart the kernel to use updated packages.\n"
     ]
    }
   ],
   "source": [
    "pip install cryptocmd"
   ]
  },
  {
   "cell_type": "code",
   "execution_count": 3,
   "metadata": {},
   "outputs": [],
   "source": [
    "\n",
    "from cryptocmd import CmcScraper\n",
    "\n",
    "#1. BTC\n",
    "scraper = CmcScraper(\"BTC\")\n",
    "headers, data = scraper.get_data()\n",
    "btc_price = scraper.get_dataframe()\n",
    "\n",
    "#2. ETH\n",
    "scraper2 = CmcScraper(\"ETH\")\n",
    "headers, data = scraper2.get_data()\n",
    "eth_price = scraper2.get_dataframe()\n",
    "\n",
    "#3. BNB\n",
    "scraper3 = CmcScraper(\"BNB\")\n",
    "headers, data = scraper3.get_data()\n",
    "bnb_price = scraper3.get_dataframe()\n",
    "\n",
    "#4. USDT\n",
    "scraper4 = CmcScraper(\"USDT\")\n",
    "headers, data = scraper4.get_data()\n",
    "usdt_price = scraper4.get_dataframe()\n",
    "\n",
    "#5. ADA\n",
    "scraper5 = CmcScraper(\"ADA\")\n",
    "headers, data = scraper5.get_data()\n",
    "ada_price = scraper5.get_dataframe()\n",
    "\n",
    "#6. SOL\n",
    "scraper6 = CmcScraper(\"SOL\")\n",
    "headers, data = scraper6.get_data()\n",
    "sol_price = scraper6.get_dataframe()\n",
    "\n",
    "#7. XRP\n",
    "scraper7 = CmcScraper(\"XRP\")\n",
    "headers, data = scraper7.get_data()\n",
    "xrp_price = scraper7.get_dataframe()\n",
    "\n",
    "#8. DOT\n",
    "scraper8 = CmcScraper(\"DOT\")\n",
    "headers, data = scraper8.get_data()\n",
    "dot_price = scraper8.get_dataframe()\n",
    "\n",
    "#9. SHIB\n",
    "scraper9 = CmcScraper(\"SHIB\")\n",
    "headers, data = scraper9.get_data()\n",
    "shib_price = scraper9.get_dataframe()\n",
    "\n",
    "#10. DOGE\n",
    "scraper10 = CmcScraper(\"DOGE\")\n",
    "headers, data = scraper10.get_data()\n",
    "doge_price = scraper10.get_dataframe()"
   ]
  },
  {
   "cell_type": "markdown",
   "metadata": {},
   "source": [
    "### Portfolio"
   ]
  },
  {
   "cell_type": "code",
   "execution_count": 4,
   "metadata": {},
   "outputs": [],
   "source": [
    "#1. MATIC\n",
    "coin1 = CmcScraper(\"MATIC\")\n",
    "headers, data = coin1.get_data()\n",
    "matic = coin1.get_dataframe()\n",
    "\n",
    "#2. SAND\n",
    "coin2 = CmcScraper(\"SAND\")\n",
    "headers, data = coin2.get_data()\n",
    "sand = coin2.get_dataframe()\n",
    "\n",
    "#3. JOE\n",
    "coin3 = CmcScraper(\"JOE\")\n",
    "headers, data = coin3.get_data()\n",
    "joe = coin3.get_dataframe()\n",
    "\n",
    "#4. AVAX\n",
    "coin4 = CmcScraper(\"AVAX\")\n",
    "headers, data = coin4.get_data()\n",
    "avax = coin4.get_dataframe()\n",
    "\n",
    "#5. KAR\n",
    "coin5 = CmcScraper(\"KAR\")\n",
    "headers, data = coin5.get_data()\n",
    "kar = coin5.get_dataframe()\n",
    "\n",
    "#6. MOVR\n",
    "coin6 = CmcScraper(\"MOVR\")\n",
    "movr = coin6.get_dataframe()\n",
    "\n",
    "#7. YGG\n",
    "coin7 = CmcScraper(\"YGG\")\n",
    "ygg = coin7.get_dataframe()\n"
   ]
  },
  {
   "cell_type": "code",
   "execution_count": 5,
   "metadata": {},
   "outputs": [],
   "source": [
    "btc_price.columns =[btc_price.columns[0]]+['btc_'+i for i in btc_price.columns[1:]]\n",
    "eth_price.columns =[eth_price.columns[0]]+['eth_'+i for i in eth_price.columns[1:]]\n",
    "bnb_price.columns =[bnb_price.columns[0]]+['bnb_'+i for i in bnb_price.columns[1:]]\n",
    "usdt_price.columns =[usdt_price.columns[0]]+['usdt_'+i for i in usdt_price.columns[1:]]\n",
    "ada_price.columns =[ada_price.columns[0]]+['ada_'+i for i in ada_price.columns[1:]]\n",
    "sol_price.columns =[sol_price.columns[0]]+['sol_'+i for i in sol_price.columns[1:]]\n",
    "xrp_price.columns =[xrp_price.columns[0]]+['xrp_'+i for i in xrp_price.columns[1:]]\n",
    "dot_price.columns =[dot_price.columns[0]]+['dot_'+i for i in dot_price.columns[1:]]\n",
    "shib_price.columns =[shib_price.columns[0]]+['shib_'+i for i in shib_price.columns[1:]]\n",
    "doge_price.columns =[doge_price.columns[0]]+['doge_'+i for i in doge_price.columns[1:]]"
   ]
  },
  {
   "cell_type": "code",
   "execution_count": 6,
   "metadata": {},
   "outputs": [],
   "source": [
    "matic.columns =[matic.columns[0]]+['matic_'+i for i in matic.columns[1:]]\n",
    "sand.columns =[sand.columns[0]]+['sand_'+i for i in sand.columns[1:]]\n",
    "joe.columns =[joe.columns[0]]+['joe_'+i for i in joe.columns[1:]]\n",
    "avax.columns =[avax.columns[0]]+['avax_'+i for i in avax.columns[1:]]\n",
    "kar.columns =[kar.columns[0]]+['kar_'+i for i in kar.columns[1:]]\n",
    "movr.columns =[movr.columns[0]]+['movr_'+i for i in movr.columns[1:]]\n",
    "ygg.columns =[ygg.columns[0]]+['ygg_'+i for i in ygg.columns[1:]]"
   ]
  },
  {
   "cell_type": "code",
   "execution_count": 7,
   "metadata": {},
   "outputs": [],
   "source": [
    "df = [btc_price,eth_price,bnb_price,usdt_price,ada_price,sol_price,xrp_price,dot_price,shib_price,doge_price,matic,sand,joe,avax,movr,kar,ygg]\n",
    "\n",
    "\n"
   ]
  },
  {
   "cell_type": "code",
   "execution_count": 8,
   "metadata": {},
   "outputs": [],
   "source": [
    "df_merged = reduce(lambda  left,right: pd.merge(left,right,on=['Date'],\n",
    "                                            how='outer'), df)\n",
    "df_merged = df_merged[df_merged['Date']>='2021-09-01']"
   ]
  },
  {
   "cell_type": "code",
   "execution_count": 9,
   "metadata": {},
   "outputs": [
    {
     "data": {
      "text/html": [
       "<div>\n",
       "<style scoped>\n",
       "    .dataframe tbody tr th:only-of-type {\n",
       "        vertical-align: middle;\n",
       "    }\n",
       "\n",
       "    .dataframe tbody tr th {\n",
       "        vertical-align: top;\n",
       "    }\n",
       "\n",
       "    .dataframe thead th {\n",
       "        text-align: right;\n",
       "    }\n",
       "</style>\n",
       "<table border=\"1\" class=\"dataframe\">\n",
       "  <thead>\n",
       "    <tr style=\"text-align: right;\">\n",
       "      <th></th>\n",
       "      <th>Date</th>\n",
       "      <th>btc_Open</th>\n",
       "      <th>btc_High</th>\n",
       "      <th>btc_Low</th>\n",
       "      <th>btc_Close</th>\n",
       "      <th>btc_Volume</th>\n",
       "      <th>btc_Market Cap</th>\n",
       "      <th>eth_Open</th>\n",
       "      <th>eth_High</th>\n",
       "      <th>eth_Low</th>\n",
       "      <th>...</th>\n",
       "      <th>dot_returns</th>\n",
       "      <th>shib_returns</th>\n",
       "      <th>doge_returns</th>\n",
       "      <th>matic_returns</th>\n",
       "      <th>sand_returns</th>\n",
       "      <th>joe_returns</th>\n",
       "      <th>avax_returns</th>\n",
       "      <th>kar_returns</th>\n",
       "      <th>movr_returns</th>\n",
       "      <th>ygg_returns</th>\n",
       "    </tr>\n",
       "  </thead>\n",
       "  <tbody>\n",
       "    <tr>\n",
       "      <th>0</th>\n",
       "      <td>2021-11-07</td>\n",
       "      <td>61554.921805</td>\n",
       "      <td>63326.989028</td>\n",
       "      <td>61432.489114</td>\n",
       "      <td>63326.989028</td>\n",
       "      <td>2.472675e+10</td>\n",
       "      <td>1.194779e+12</td>\n",
       "      <td>4523.982161</td>\n",
       "      <td>4640.922037</td>\n",
       "      <td>4510.984411</td>\n",
       "      <td>...</td>\n",
       "      <td>0.003884</td>\n",
       "      <td>-0.031136</td>\n",
       "      <td>0.016581</td>\n",
       "      <td>-0.001056</td>\n",
       "      <td>-0.008425</td>\n",
       "      <td>0.037089</td>\n",
       "      <td>0.112929</td>\n",
       "      <td>0.044648</td>\n",
       "      <td>0.027088</td>\n",
       "      <td>0.010470</td>\n",
       "    </tr>\n",
       "    <tr>\n",
       "      <th>1</th>\n",
       "      <td>2021-11-06</td>\n",
       "      <td>61068.873447</td>\n",
       "      <td>61590.682429</td>\n",
       "      <td>60163.781549</td>\n",
       "      <td>61527.481793</td>\n",
       "      <td>2.909493e+10</td>\n",
       "      <td>1.160769e+12</td>\n",
       "      <td>4482.647973</td>\n",
       "      <td>4530.996953</td>\n",
       "      <td>4334.973587</td>\n",
       "      <td>...</td>\n",
       "      <td>0.002761</td>\n",
       "      <td>-0.065459</td>\n",
       "      <td>0.002428</td>\n",
       "      <td>-0.007717</td>\n",
       "      <td>0.056255</td>\n",
       "      <td>-0.011121</td>\n",
       "      <td>0.059068</td>\n",
       "      <td>-0.032234</td>\n",
       "      <td>-0.041269</td>\n",
       "      <td>0.001422</td>\n",
       "    </tr>\n",
       "    <tr>\n",
       "      <th>2</th>\n",
       "      <td>2021-11-05</td>\n",
       "      <td>61460.079040</td>\n",
       "      <td>62541.467686</td>\n",
       "      <td>60844.607608</td>\n",
       "      <td>61125.674269</td>\n",
       "      <td>3.060510e+10</td>\n",
       "      <td>1.153129e+12</td>\n",
       "      <td>4537.423370</td>\n",
       "      <td>4570.895951</td>\n",
       "      <td>4447.487296</td>\n",
       "      <td>...</td>\n",
       "      <td>-0.036807</td>\n",
       "      <td>0.263256</td>\n",
       "      <td>-0.008304</td>\n",
       "      <td>-0.009025</td>\n",
       "      <td>-0.046731</td>\n",
       "      <td>-0.091280</td>\n",
       "      <td>-0.059241</td>\n",
       "      <td>-0.011984</td>\n",
       "      <td>-0.111446</td>\n",
       "      <td>-0.054657</td>\n",
       "    </tr>\n",
       "    <tr>\n",
       "      <th>3</th>\n",
       "      <td>2021-11-04</td>\n",
       "      <td>62941.804035</td>\n",
       "      <td>63123.288915</td>\n",
       "      <td>60799.662475</td>\n",
       "      <td>61452.230587</td>\n",
       "      <td>3.261585e+10</td>\n",
       "      <td>1.159231e+12</td>\n",
       "      <td>4604.678632</td>\n",
       "      <td>4606.516313</td>\n",
       "      <td>4426.622763</td>\n",
       "      <td>...</td>\n",
       "      <td>0.010238</td>\n",
       "      <td>-0.103958</td>\n",
       "      <td>-0.021669</td>\n",
       "      <td>-0.058243</td>\n",
       "      <td>-0.159731</td>\n",
       "      <td>0.055796</td>\n",
       "      <td>0.049163</td>\n",
       "      <td>-0.065011</td>\n",
       "      <td>0.106700</td>\n",
       "      <td>0.063248</td>\n",
       "    </tr>\n",
       "    <tr>\n",
       "      <th>4</th>\n",
       "      <td>2021-11-03</td>\n",
       "      <td>63254.334881</td>\n",
       "      <td>63516.937584</td>\n",
       "      <td>61184.240178</td>\n",
       "      <td>62970.047426</td>\n",
       "      <td>3.612473e+10</td>\n",
       "      <td>1.187808e+12</td>\n",
       "      <td>4589.684616</td>\n",
       "      <td>4664.910076</td>\n",
       "      <td>4462.976107</td>\n",
       "      <td>...</td>\n",
       "      <td>0.035089</td>\n",
       "      <td>-0.202480</td>\n",
       "      <td>-0.014982</td>\n",
       "      <td>0.049541</td>\n",
       "      <td>0.058137</td>\n",
       "      <td>0.232695</td>\n",
       "      <td>0.112985</td>\n",
       "      <td>-0.007880</td>\n",
       "      <td>0.098788</td>\n",
       "      <td>-0.055970</td>\n",
       "    </tr>\n",
       "    <tr>\n",
       "      <th>...</th>\n",
       "      <td>...</td>\n",
       "      <td>...</td>\n",
       "      <td>...</td>\n",
       "      <td>...</td>\n",
       "      <td>...</td>\n",
       "      <td>...</td>\n",
       "      <td>...</td>\n",
       "      <td>...</td>\n",
       "      <td>...</td>\n",
       "      <td>...</td>\n",
       "      <td>...</td>\n",
       "      <td>...</td>\n",
       "      <td>...</td>\n",
       "      <td>...</td>\n",
       "      <td>...</td>\n",
       "      <td>...</td>\n",
       "      <td>...</td>\n",
       "      <td>...</td>\n",
       "      <td>...</td>\n",
       "      <td>...</td>\n",
       "      <td>...</td>\n",
       "    </tr>\n",
       "    <tr>\n",
       "      <th>63</th>\n",
       "      <td>2021-09-05</td>\n",
       "      <td>49937.858015</td>\n",
       "      <td>51868.681630</td>\n",
       "      <td>49538.598381</td>\n",
       "      <td>51753.411926</td>\n",
       "      <td>3.032268e+10</td>\n",
       "      <td>9.733549e+11</td>\n",
       "      <td>3886.330957</td>\n",
       "      <td>3979.186586</td>\n",
       "      <td>3838.487399</td>\n",
       "      <td>...</td>\n",
       "      <td>0.062537</td>\n",
       "      <td>0.014765</td>\n",
       "      <td>0.050791</td>\n",
       "      <td>-0.035060</td>\n",
       "      <td>-0.017453</td>\n",
       "      <td>-0.030016</td>\n",
       "      <td>0.020639</td>\n",
       "      <td>-0.006432</td>\n",
       "      <td>0.011940</td>\n",
       "      <td>-0.037992</td>\n",
       "    </tr>\n",
       "    <tr>\n",
       "      <th>64</th>\n",
       "      <td>2021-09-04</td>\n",
       "      <td>50009.325096</td>\n",
       "      <td>50545.581012</td>\n",
       "      <td>49548.780451</td>\n",
       "      <td>49944.626906</td>\n",
       "      <td>3.747133e+10</td>\n",
       "      <td>9.392861e+11</td>\n",
       "      <td>3937.910226</td>\n",
       "      <td>3969.448739</td>\n",
       "      <td>3837.931054</td>\n",
       "      <td>...</td>\n",
       "      <td>-0.034503</td>\n",
       "      <td>0.053748</td>\n",
       "      <td>0.011213</td>\n",
       "      <td>0.189810</td>\n",
       "      <td>-0.007884</td>\n",
       "      <td>0.045911</td>\n",
       "      <td>0.027081</td>\n",
       "      <td>0.011425</td>\n",
       "      <td>-0.041689</td>\n",
       "      <td>0.011641</td>\n",
       "    </tr>\n",
       "    <tr>\n",
       "      <th>65</th>\n",
       "      <td>2021-09-03</td>\n",
       "      <td>49288.249112</td>\n",
       "      <td>50982.271573</td>\n",
       "      <td>48386.086163</td>\n",
       "      <td>50025.374605</td>\n",
       "      <td>4.320618e+10</td>\n",
       "      <td>9.407572e+11</td>\n",
       "      <td>3787.486534</td>\n",
       "      <td>4022.469360</td>\n",
       "      <td>3712.678248</td>\n",
       "      <td>...</td>\n",
       "      <td>0.058914</td>\n",
       "      <td>-0.001412</td>\n",
       "      <td>0.005156</td>\n",
       "      <td>0.008785</td>\n",
       "      <td>-0.002359</td>\n",
       "      <td>-0.092067</td>\n",
       "      <td>-0.036506</td>\n",
       "      <td>-0.033753</td>\n",
       "      <td>-0.124957</td>\n",
       "      <td>-0.034454</td>\n",
       "    </tr>\n",
       "    <tr>\n",
       "      <th>66</th>\n",
       "      <td>2021-09-02</td>\n",
       "      <td>48807.848862</td>\n",
       "      <td>50343.420705</td>\n",
       "      <td>48652.319791</td>\n",
       "      <td>49327.723184</td>\n",
       "      <td>3.950807e+10</td>\n",
       "      <td>9.275909e+11</td>\n",
       "      <td>3825.027724</td>\n",
       "      <td>3830.711365</td>\n",
       "      <td>3726.750474</td>\n",
       "      <td>...</td>\n",
       "      <td>-0.041364</td>\n",
       "      <td>-0.016667</td>\n",
       "      <td>0.005309</td>\n",
       "      <td>-0.015469</td>\n",
       "      <td>-0.002966</td>\n",
       "      <td>0.349031</td>\n",
       "      <td>0.124238</td>\n",
       "      <td>-0.031881</td>\n",
       "      <td>0.201685</td>\n",
       "      <td>0.015138</td>\n",
       "    </tr>\n",
       "    <tr>\n",
       "      <th>67</th>\n",
       "      <td>2021-09-01</td>\n",
       "      <td>47099.774869</td>\n",
       "      <td>49111.088788</td>\n",
       "      <td>46562.437449</td>\n",
       "      <td>48847.029074</td>\n",
       "      <td>3.913940e+10</td>\n",
       "      <td>9.185015e+11</td>\n",
       "      <td>3430.762343</td>\n",
       "      <td>3836.867394</td>\n",
       "      <td>3387.408568</td>\n",
       "      <td>...</td>\n",
       "      <td>0.053571</td>\n",
       "      <td>0.051020</td>\n",
       "      <td>0.058760</td>\n",
       "      <td>0.099857</td>\n",
       "      <td>0.062571</td>\n",
       "      <td>0.329648</td>\n",
       "      <td>0.060392</td>\n",
       "      <td>-0.002050</td>\n",
       "      <td>-0.133697</td>\n",
       "      <td>0.053443</td>\n",
       "    </tr>\n",
       "  </tbody>\n",
       "</table>\n",
       "<p>68 rows × 120 columns</p>\n",
       "</div>"
      ],
      "text/plain": [
       "         Date      btc_Open      btc_High       btc_Low     btc_Close  \\\n",
       "0  2021-11-07  61554.921805  63326.989028  61432.489114  63326.989028   \n",
       "1  2021-11-06  61068.873447  61590.682429  60163.781549  61527.481793   \n",
       "2  2021-11-05  61460.079040  62541.467686  60844.607608  61125.674269   \n",
       "3  2021-11-04  62941.804035  63123.288915  60799.662475  61452.230587   \n",
       "4  2021-11-03  63254.334881  63516.937584  61184.240178  62970.047426   \n",
       "..        ...           ...           ...           ...           ...   \n",
       "63 2021-09-05  49937.858015  51868.681630  49538.598381  51753.411926   \n",
       "64 2021-09-04  50009.325096  50545.581012  49548.780451  49944.626906   \n",
       "65 2021-09-03  49288.249112  50982.271573  48386.086163  50025.374605   \n",
       "66 2021-09-02  48807.848862  50343.420705  48652.319791  49327.723184   \n",
       "67 2021-09-01  47099.774869  49111.088788  46562.437449  48847.029074   \n",
       "\n",
       "      btc_Volume  btc_Market Cap     eth_Open     eth_High      eth_Low  ...  \\\n",
       "0   2.472675e+10    1.194779e+12  4523.982161  4640.922037  4510.984411  ...   \n",
       "1   2.909493e+10    1.160769e+12  4482.647973  4530.996953  4334.973587  ...   \n",
       "2   3.060510e+10    1.153129e+12  4537.423370  4570.895951  4447.487296  ...   \n",
       "3   3.261585e+10    1.159231e+12  4604.678632  4606.516313  4426.622763  ...   \n",
       "4   3.612473e+10    1.187808e+12  4589.684616  4664.910076  4462.976107  ...   \n",
       "..           ...             ...          ...          ...          ...  ...   \n",
       "63  3.032268e+10    9.733549e+11  3886.330957  3979.186586  3838.487399  ...   \n",
       "64  3.747133e+10    9.392861e+11  3937.910226  3969.448739  3837.931054  ...   \n",
       "65  4.320618e+10    9.407572e+11  3787.486534  4022.469360  3712.678248  ...   \n",
       "66  3.950807e+10    9.275909e+11  3825.027724  3830.711365  3726.750474  ...   \n",
       "67  3.913940e+10    9.185015e+11  3430.762343  3836.867394  3387.408568  ...   \n",
       "\n",
       "    dot_returns  shib_returns  doge_returns  matic_returns  sand_returns  \\\n",
       "0      0.003884     -0.031136      0.016581      -0.001056     -0.008425   \n",
       "1      0.002761     -0.065459      0.002428      -0.007717      0.056255   \n",
       "2     -0.036807      0.263256     -0.008304      -0.009025     -0.046731   \n",
       "3      0.010238     -0.103958     -0.021669      -0.058243     -0.159731   \n",
       "4      0.035089     -0.202480     -0.014982       0.049541      0.058137   \n",
       "..          ...           ...           ...            ...           ...   \n",
       "63     0.062537      0.014765      0.050791      -0.035060     -0.017453   \n",
       "64    -0.034503      0.053748      0.011213       0.189810     -0.007884   \n",
       "65     0.058914     -0.001412      0.005156       0.008785     -0.002359   \n",
       "66    -0.041364     -0.016667      0.005309      -0.015469     -0.002966   \n",
       "67     0.053571      0.051020      0.058760       0.099857      0.062571   \n",
       "\n",
       "    joe_returns  avax_returns  kar_returns  movr_returns  ygg_returns  \n",
       "0      0.037089      0.112929     0.044648      0.027088     0.010470  \n",
       "1     -0.011121      0.059068    -0.032234     -0.041269     0.001422  \n",
       "2     -0.091280     -0.059241    -0.011984     -0.111446    -0.054657  \n",
       "3      0.055796      0.049163    -0.065011      0.106700     0.063248  \n",
       "4      0.232695      0.112985    -0.007880      0.098788    -0.055970  \n",
       "..          ...           ...          ...           ...          ...  \n",
       "63    -0.030016      0.020639    -0.006432      0.011940    -0.037992  \n",
       "64     0.045911      0.027081     0.011425     -0.041689     0.011641  \n",
       "65    -0.092067     -0.036506    -0.033753     -0.124957    -0.034454  \n",
       "66     0.349031      0.124238    -0.031881      0.201685     0.015138  \n",
       "67     0.329648      0.060392    -0.002050     -0.133697     0.053443  \n",
       "\n",
       "[68 rows x 120 columns]"
      ]
     },
     "execution_count": 9,
     "metadata": {},
     "output_type": "execute_result"
    }
   ],
   "source": [
    "for coins in ['btc_', 'eth_','bnb_','usdt_','ada_','xrp_','sol_','dot_','shib_','doge_','matic_','sand_','joe_','avax_','kar_','movr_','ygg_']: \n",
    "    kwargs = { coins+'returns': lambda x: (x[coins+'Close']-x[coins+'Open'])/x[coins+'Open']}\n",
    "    df_merged = df_merged.assign(**kwargs)\n",
    "df_merged.fillna(0)"
   ]
  },
  {
   "cell_type": "code",
   "execution_count": 10,
   "metadata": {},
   "outputs": [
    {
     "data": {
      "text/html": [
       "<div>\n",
       "<style scoped>\n",
       "    .dataframe tbody tr th:only-of-type {\n",
       "        vertical-align: middle;\n",
       "    }\n",
       "\n",
       "    .dataframe tbody tr th {\n",
       "        vertical-align: top;\n",
       "    }\n",
       "\n",
       "    .dataframe thead th {\n",
       "        text-align: right;\n",
       "    }\n",
       "</style>\n",
       "<table border=\"1\" class=\"dataframe\">\n",
       "  <thead>\n",
       "    <tr style=\"text-align: right;\">\n",
       "      <th></th>\n",
       "      <th>btc_Close</th>\n",
       "      <th>eth_Close</th>\n",
       "      <th>bnb_Close</th>\n",
       "      <th>usdt_Close</th>\n",
       "      <th>ada_Close</th>\n",
       "      <th>sol_Close</th>\n",
       "      <th>xrp_Close</th>\n",
       "      <th>dot_Close</th>\n",
       "      <th>shib_Close</th>\n",
       "      <th>doge_Close</th>\n",
       "      <th>kar_Close</th>\n",
       "      <th>movr_Close</th>\n",
       "    </tr>\n",
       "  </thead>\n",
       "  <tbody>\n",
       "    <tr>\n",
       "      <th>0</th>\n",
       "      <td>63326.989028</td>\n",
       "      <td>4620.554503</td>\n",
       "      <td>650.454065</td>\n",
       "      <td>1.001517</td>\n",
       "      <td>2.021872</td>\n",
       "      <td>249.823483</td>\n",
       "      <td>1.217534</td>\n",
       "      <td>52.277980</td>\n",
       "      <td>0.000057</td>\n",
       "      <td>0.266315</td>\n",
       "      <td>7.575387</td>\n",
       "      <td>386.192623</td>\n",
       "    </tr>\n",
       "    <tr>\n",
       "      <th>1</th>\n",
       "      <td>61527.481793</td>\n",
       "      <td>4521.581083</td>\n",
       "      <td>636.113951</td>\n",
       "      <td>1.001454</td>\n",
       "      <td>2.006609</td>\n",
       "      <td>258.934312</td>\n",
       "      <td>1.152454</td>\n",
       "      <td>52.009216</td>\n",
       "      <td>0.000059</td>\n",
       "      <td>0.261898</td>\n",
       "      <td>7.247207</td>\n",
       "      <td>376.511539</td>\n",
       "    </tr>\n",
       "    <tr>\n",
       "      <th>2</th>\n",
       "      <td>61125.674269</td>\n",
       "      <td>4486.243405</td>\n",
       "      <td>608.648048</td>\n",
       "      <td>1.001553</td>\n",
       "      <td>1.986206</td>\n",
       "      <td>236.474334</td>\n",
       "      <td>1.161533</td>\n",
       "      <td>51.894674</td>\n",
       "      <td>0.000062</td>\n",
       "      <td>0.261465</td>\n",
       "      <td>7.492773</td>\n",
       "      <td>393.128351</td>\n",
       "    </tr>\n",
       "    <tr>\n",
       "      <th>3</th>\n",
       "      <td>61452.230587</td>\n",
       "      <td>4537.324081</td>\n",
       "      <td>559.737291</td>\n",
       "      <td>1.000857</td>\n",
       "      <td>1.984882</td>\n",
       "      <td>247.387778</td>\n",
       "      <td>1.202003</td>\n",
       "      <td>53.881732</td>\n",
       "      <td>0.000049</td>\n",
       "      <td>0.263280</td>\n",
       "      <td>7.583863</td>\n",
       "      <td>442.771628</td>\n",
       "    </tr>\n",
       "    <tr>\n",
       "      <th>4</th>\n",
       "      <td>62970.047426</td>\n",
       "      <td>4607.193607</td>\n",
       "      <td>568.578792</td>\n",
       "      <td>1.000678</td>\n",
       "      <td>2.063701</td>\n",
       "      <td>242.898815</td>\n",
       "      <td>1.208796</td>\n",
       "      <td>53.443703</td>\n",
       "      <td>0.000055</td>\n",
       "      <td>0.269407</td>\n",
       "      <td>8.111084</td>\n",
       "      <td>400.872201</td>\n",
       "    </tr>\n",
       "    <tr>\n",
       "      <th>...</th>\n",
       "      <td>...</td>\n",
       "      <td>...</td>\n",
       "      <td>...</td>\n",
       "      <td>...</td>\n",
       "      <td>...</td>\n",
       "      <td>...</td>\n",
       "      <td>...</td>\n",
       "      <td>...</td>\n",
       "      <td>...</td>\n",
       "      <td>...</td>\n",
       "      <td>...</td>\n",
       "      <td>...</td>\n",
       "    </tr>\n",
       "    <tr>\n",
       "      <th>63</th>\n",
       "      <td>51753.411926</td>\n",
       "      <td>3952.133497</td>\n",
       "      <td>504.619861</td>\n",
       "      <td>1.000261</td>\n",
       "      <td>2.910824</td>\n",
       "      <td>142.070877</td>\n",
       "      <td>1.305498</td>\n",
       "      <td>34.408789</td>\n",
       "      <td>0.000008</td>\n",
       "      <td>0.314527</td>\n",
       "      <td>7.570289</td>\n",
       "      <td>139.337158</td>\n",
       "    </tr>\n",
       "    <tr>\n",
       "      <th>64</th>\n",
       "      <td>49944.626906</td>\n",
       "      <td>3887.828490</td>\n",
       "      <td>498.078419</td>\n",
       "      <td>1.000384</td>\n",
       "      <td>2.832807</td>\n",
       "      <td>139.113062</td>\n",
       "      <td>1.255779</td>\n",
       "      <td>32.417514</td>\n",
       "      <td>0.000007</td>\n",
       "      <td>0.299388</td>\n",
       "      <td>7.641722</td>\n",
       "      <td>137.407483</td>\n",
       "    </tr>\n",
       "    <tr>\n",
       "      <th>65</th>\n",
       "      <td>50025.374605</td>\n",
       "      <td>3940.614737</td>\n",
       "      <td>488.604714</td>\n",
       "      <td>1.000220</td>\n",
       "      <td>2.968239</td>\n",
       "      <td>146.583052</td>\n",
       "      <td>1.291435</td>\n",
       "      <td>33.674276</td>\n",
       "      <td>0.000007</td>\n",
       "      <td>0.296273</td>\n",
       "      <td>7.554594</td>\n",
       "      <td>142.979058</td>\n",
       "    </tr>\n",
       "    <tr>\n",
       "      <th>66</th>\n",
       "      <td>49327.723184</td>\n",
       "      <td>3790.990088</td>\n",
       "      <td>483.921048</td>\n",
       "      <td>1.000281</td>\n",
       "      <td>2.963438</td>\n",
       "      <td>128.102392</td>\n",
       "      <td>1.256324</td>\n",
       "      <td>31.814712</td>\n",
       "      <td>0.000007</td>\n",
       "      <td>0.295955</td>\n",
       "      <td>7.821162</td>\n",
       "      <td>166.569535</td>\n",
       "    </tr>\n",
       "    <tr>\n",
       "      <th>67</th>\n",
       "      <td>48847.029074</td>\n",
       "      <td>3834.828005</td>\n",
       "      <td>490.068719</td>\n",
       "      <td>1.000321</td>\n",
       "      <td>2.870767</td>\n",
       "      <td>111.033004</td>\n",
       "      <td>1.234889</td>\n",
       "      <td>33.139480</td>\n",
       "      <td>0.000007</td>\n",
       "      <td>0.294401</td>\n",
       "      <td>8.084025</td>\n",
       "      <td>139.168727</td>\n",
       "    </tr>\n",
       "  </tbody>\n",
       "</table>\n",
       "<p>68 rows × 12 columns</p>\n",
       "</div>"
      ],
      "text/plain": [
       "       btc_Close    eth_Close   bnb_Close  usdt_Close  ada_Close   sol_Close  \\\n",
       "0   63326.989028  4620.554503  650.454065    1.001517   2.021872  249.823483   \n",
       "1   61527.481793  4521.581083  636.113951    1.001454   2.006609  258.934312   \n",
       "2   61125.674269  4486.243405  608.648048    1.001553   1.986206  236.474334   \n",
       "3   61452.230587  4537.324081  559.737291    1.000857   1.984882  247.387778   \n",
       "4   62970.047426  4607.193607  568.578792    1.000678   2.063701  242.898815   \n",
       "..           ...          ...         ...         ...        ...         ...   \n",
       "63  51753.411926  3952.133497  504.619861    1.000261   2.910824  142.070877   \n",
       "64  49944.626906  3887.828490  498.078419    1.000384   2.832807  139.113062   \n",
       "65  50025.374605  3940.614737  488.604714    1.000220   2.968239  146.583052   \n",
       "66  49327.723184  3790.990088  483.921048    1.000281   2.963438  128.102392   \n",
       "67  48847.029074  3834.828005  490.068719    1.000321   2.870767  111.033004   \n",
       "\n",
       "    xrp_Close  dot_Close  shib_Close  doge_Close  kar_Close  movr_Close  \n",
       "0    1.217534  52.277980    0.000057    0.266315   7.575387  386.192623  \n",
       "1    1.152454  52.009216    0.000059    0.261898   7.247207  376.511539  \n",
       "2    1.161533  51.894674    0.000062    0.261465   7.492773  393.128351  \n",
       "3    1.202003  53.881732    0.000049    0.263280   7.583863  442.771628  \n",
       "4    1.208796  53.443703    0.000055    0.269407   8.111084  400.872201  \n",
       "..        ...        ...         ...         ...        ...         ...  \n",
       "63   1.305498  34.408789    0.000008    0.314527   7.570289  139.337158  \n",
       "64   1.255779  32.417514    0.000007    0.299388   7.641722  137.407483  \n",
       "65   1.291435  33.674276    0.000007    0.296273   7.554594  142.979058  \n",
       "66   1.256324  31.814712    0.000007    0.295955   7.821162  166.569535  \n",
       "67   1.234889  33.139480    0.000007    0.294401   8.084025  139.168727  \n",
       "\n",
       "[68 rows x 12 columns]"
      ]
     },
     "execution_count": 10,
     "metadata": {},
     "output_type": "execute_result"
    }
   ],
   "source": [
    "df_close = df_merged[['btc_Close','eth_Close','bnb_Close','usdt_Close','ada_Close','sol_Close','xrp_Close','dot_Close','shib_Close','doge_Close','kar_Close','movr_Close']]\n",
    "df_close.fillna(0)\n"
   ]
  },
  {
   "cell_type": "markdown",
   "metadata": {},
   "source": [
    "# Correlation analysis"
   ]
  },
  {
   "cell_type": "code",
   "execution_count": 11,
   "metadata": {},
   "outputs": [
    {
     "data": {
      "text/plain": [
       "<matplotlib.axes._subplots.AxesSubplot at 0x7fd9793558b0>"
      ]
     },
     "execution_count": 11,
     "metadata": {},
     "output_type": "execute_result"
    },
    {
     "data": {
      "image/png": "[encoded data removed]",
      "text/plain": [
       "<Figure size 648x648 with 2 Axes>"
      ]
     },
     "metadata": {
      "needs_background": "light"
     },
     "output_type": "display_data"
    }
   ],
   "source": [
    "df_close.corr()\n",
    "correlation = df_close.corr()\n",
    "\n",
    "plt.figure(figsize=(9,9))\n",
    "plt.title('Correlation Visualised with sns')\n",
    "sns.heatmap(correlation,annot=True,vmin=-1,vmax=1,cmap=\"GnBu_r\",center=1) "
   ]
  },
  {
   "cell_type": "markdown",
   "metadata": {},
   "source": [
    "# Laspeyres Market index"
   ]
  },
  {
   "cell_type": "code",
   "execution_count": 12,
   "metadata": {},
   "outputs": [],
   "source": [
    "df_marketcap = df_merged[['btc_Market Cap','eth_Market Cap','bnb_Market Cap','usdt_Market Cap','ada_Market Cap','sol_Market Cap','xrp_Market Cap','dot_Market Cap','shib_Market Cap','doge_Market Cap']]\n",
    "df_marketcap\n",
    "df_merged[\"combined marketcap\"] = df_marketcap.sum(axis=1)\n",
    "\n"
   ]
  },
  {
   "cell_type": "code",
   "execution_count": 13,
   "metadata": {},
   "outputs": [
    {
     "data": {
      "text/html": [
       "<div>\n",
       "<style scoped>\n",
       "    .dataframe tbody tr th:only-of-type {\n",
       "        vertical-align: middle;\n",
       "    }\n",
       "\n",
       "    .dataframe tbody tr th {\n",
       "        vertical-align: top;\n",
       "    }\n",
       "\n",
       "    .dataframe thead th {\n",
       "        text-align: right;\n",
       "    }\n",
       "</style>\n",
       "<table border=\"1\" class=\"dataframe\">\n",
       "  <thead>\n",
       "    <tr style=\"text-align: right;\">\n",
       "      <th></th>\n",
       "      <th>Date</th>\n",
       "      <th>btc_Open</th>\n",
       "      <th>btc_High</th>\n",
       "      <th>btc_Low</th>\n",
       "      <th>btc_Close</th>\n",
       "      <th>btc_Volume</th>\n",
       "      <th>btc_Market Cap</th>\n",
       "      <th>eth_Open</th>\n",
       "      <th>eth_High</th>\n",
       "      <th>eth_Low</th>\n",
       "      <th>...</th>\n",
       "      <th>sand_returns</th>\n",
       "      <th>joe_returns</th>\n",
       "      <th>avax_returns</th>\n",
       "      <th>kar_returns</th>\n",
       "      <th>movr_returns</th>\n",
       "      <th>ygg_returns</th>\n",
       "      <th>combined marketcap</th>\n",
       "      <th>index</th>\n",
       "      <th>index open</th>\n",
       "      <th>index returns</th>\n",
       "    </tr>\n",
       "  </thead>\n",
       "  <tbody>\n",
       "    <tr>\n",
       "      <th>0</th>\n",
       "      <td>2021-11-07</td>\n",
       "      <td>61554.921805</td>\n",
       "      <td>63326.989028</td>\n",
       "      <td>61432.489114</td>\n",
       "      <td>63326.989028</td>\n",
       "      <td>2.472675e+10</td>\n",
       "      <td>1.194779e+12</td>\n",
       "      <td>4523.982161</td>\n",
       "      <td>4640.922037</td>\n",
       "      <td>4510.984411</td>\n",
       "      <td>...</td>\n",
       "      <td>-0.008425</td>\n",
       "      <td>0.037089</td>\n",
       "      <td>0.112929</td>\n",
       "      <td>0.044648</td>\n",
       "      <td>0.027088</td>\n",
       "      <td>0.010470</td>\n",
       "      <td>2.240523e+12</td>\n",
       "      <td>34937.716412</td>\n",
       "      <td>33968.896766</td>\n",
       "      <td>0.028521</td>\n",
       "    </tr>\n",
       "    <tr>\n",
       "      <th>1</th>\n",
       "      <td>2021-11-06</td>\n",
       "      <td>61068.873447</td>\n",
       "      <td>61590.682429</td>\n",
       "      <td>60163.781549</td>\n",
       "      <td>61527.481793</td>\n",
       "      <td>2.909493e+10</td>\n",
       "      <td>1.160769e+12</td>\n",
       "      <td>4482.647973</td>\n",
       "      <td>4530.996953</td>\n",
       "      <td>4334.973587</td>\n",
       "      <td>...</td>\n",
       "      <td>0.056255</td>\n",
       "      <td>-0.011121</td>\n",
       "      <td>0.059068</td>\n",
       "      <td>-0.032234</td>\n",
       "      <td>-0.041269</td>\n",
       "      <td>0.001422</td>\n",
       "      <td>2.190581e+12</td>\n",
       "      <td>33747.744542</td>\n",
       "      <td>33493.078529</td>\n",
       "      <td>0.007604</td>\n",
       "    </tr>\n",
       "    <tr>\n",
       "      <th>2</th>\n",
       "      <td>2021-11-05</td>\n",
       "      <td>61460.079040</td>\n",
       "      <td>62541.467686</td>\n",
       "      <td>60844.607608</td>\n",
       "      <td>61125.674269</td>\n",
       "      <td>3.060510e+10</td>\n",
       "      <td>1.153129e+12</td>\n",
       "      <td>4537.423370</td>\n",
       "      <td>4570.895951</td>\n",
       "      <td>4447.487296</td>\n",
       "      <td>...</td>\n",
       "      <td>-0.046731</td>\n",
       "      <td>-0.091280</td>\n",
       "      <td>-0.059241</td>\n",
       "      <td>-0.011984</td>\n",
       "      <td>-0.111446</td>\n",
       "      <td>-0.054657</td>\n",
       "      <td>2.168966e+12</td>\n",
       "      <td>33632.037983</td>\n",
       "      <td>33820.435688</td>\n",
       "      <td>-0.005571</td>\n",
       "    </tr>\n",
       "    <tr>\n",
       "      <th>3</th>\n",
       "      <td>2021-11-04</td>\n",
       "      <td>62941.804035</td>\n",
       "      <td>63123.288915</td>\n",
       "      <td>60799.662475</td>\n",
       "      <td>61452.230587</td>\n",
       "      <td>3.261585e+10</td>\n",
       "      <td>1.159231e+12</td>\n",
       "      <td>4604.678632</td>\n",
       "      <td>4606.516313</td>\n",
       "      <td>4426.622763</td>\n",
       "      <td>...</td>\n",
       "      <td>-0.159731</td>\n",
       "      <td>0.055796</td>\n",
       "      <td>0.049163</td>\n",
       "      <td>-0.065011</td>\n",
       "      <td>0.106700</td>\n",
       "      <td>0.063248</td>\n",
       "      <td>2.172594e+12</td>\n",
       "      <td>33943.211456</td>\n",
       "      <td>34754.853795</td>\n",
       "      <td>-0.023353</td>\n",
       "    </tr>\n",
       "    <tr>\n",
       "      <th>4</th>\n",
       "      <td>2021-11-03</td>\n",
       "      <td>63254.334881</td>\n",
       "      <td>63516.937584</td>\n",
       "      <td>61184.240178</td>\n",
       "      <td>62970.047426</td>\n",
       "      <td>3.612473e+10</td>\n",
       "      <td>1.187808e+12</td>\n",
       "      <td>4589.684616</td>\n",
       "      <td>4664.910076</td>\n",
       "      <td>4462.976107</td>\n",
       "      <td>...</td>\n",
       "      <td>0.058137</td>\n",
       "      <td>0.232695</td>\n",
       "      <td>0.112985</td>\n",
       "      <td>-0.007880</td>\n",
       "      <td>0.098788</td>\n",
       "      <td>-0.055970</td>\n",
       "      <td>2.215618e+12</td>\n",
       "      <td>34924.791580</td>\n",
       "      <td>35071.528386</td>\n",
       "      <td>-0.004184</td>\n",
       "    </tr>\n",
       "    <tr>\n",
       "      <th>...</th>\n",
       "      <td>...</td>\n",
       "      <td>...</td>\n",
       "      <td>...</td>\n",
       "      <td>...</td>\n",
       "      <td>...</td>\n",
       "      <td>...</td>\n",
       "      <td>...</td>\n",
       "      <td>...</td>\n",
       "      <td>...</td>\n",
       "      <td>...</td>\n",
       "      <td>...</td>\n",
       "      <td>...</td>\n",
       "      <td>...</td>\n",
       "      <td>...</td>\n",
       "      <td>...</td>\n",
       "      <td>...</td>\n",
       "      <td>...</td>\n",
       "      <td>...</td>\n",
       "      <td>...</td>\n",
       "      <td>...</td>\n",
       "      <td>...</td>\n",
       "    </tr>\n",
       "    <tr>\n",
       "      <th>63</th>\n",
       "      <td>2021-09-05</td>\n",
       "      <td>49937.858015</td>\n",
       "      <td>51868.681630</td>\n",
       "      <td>49538.598381</td>\n",
       "      <td>51753.411926</td>\n",
       "      <td>3.032268e+10</td>\n",
       "      <td>9.733549e+11</td>\n",
       "      <td>3886.330957</td>\n",
       "      <td>3979.186586</td>\n",
       "      <td>3838.487399</td>\n",
       "      <td>...</td>\n",
       "      <td>-0.017453</td>\n",
       "      <td>-0.030016</td>\n",
       "      <td>0.020639</td>\n",
       "      <td>-0.006432</td>\n",
       "      <td>0.011940</td>\n",
       "      <td>-0.037992</td>\n",
       "      <td>1.862560e+12</td>\n",
       "      <td>28057.361505</td>\n",
       "      <td>27091.752412</td>\n",
       "      <td>0.035642</td>\n",
       "    </tr>\n",
       "    <tr>\n",
       "      <th>64</th>\n",
       "      <td>2021-09-04</td>\n",
       "      <td>50009.325096</td>\n",
       "      <td>50545.581012</td>\n",
       "      <td>49548.780451</td>\n",
       "      <td>49944.626906</td>\n",
       "      <td>3.747133e+10</td>\n",
       "      <td>9.392861e+11</td>\n",
       "      <td>3937.910226</td>\n",
       "      <td>3969.448739</td>\n",
       "      <td>3837.931054</td>\n",
       "      <td>...</td>\n",
       "      <td>-0.007884</td>\n",
       "      <td>0.045911</td>\n",
       "      <td>0.027081</td>\n",
       "      <td>0.011425</td>\n",
       "      <td>-0.041689</td>\n",
       "      <td>0.011641</td>\n",
       "      <td>1.810101e+12</td>\n",
       "      <td>26924.168978</td>\n",
       "      <td>26970.113549</td>\n",
       "      <td>-0.001704</td>\n",
       "    </tr>\n",
       "    <tr>\n",
       "      <th>65</th>\n",
       "      <td>2021-09-03</td>\n",
       "      <td>49288.249112</td>\n",
       "      <td>50982.271573</td>\n",
       "      <td>48386.086163</td>\n",
       "      <td>50025.374605</td>\n",
       "      <td>4.320618e+10</td>\n",
       "      <td>9.407572e+11</td>\n",
       "      <td>3787.486534</td>\n",
       "      <td>4022.469360</td>\n",
       "      <td>3712.678248</td>\n",
       "      <td>...</td>\n",
       "      <td>-0.002359</td>\n",
       "      <td>-0.092067</td>\n",
       "      <td>-0.036506</td>\n",
       "      <td>-0.033753</td>\n",
       "      <td>-0.124957</td>\n",
       "      <td>-0.034454</td>\n",
       "      <td>1.824675e+12</td>\n",
       "      <td>26817.028289</td>\n",
       "      <td>26397.488312</td>\n",
       "      <td>0.015893</td>\n",
       "    </tr>\n",
       "    <tr>\n",
       "      <th>66</th>\n",
       "      <td>2021-09-02</td>\n",
       "      <td>48807.848862</td>\n",
       "      <td>50343.420705</td>\n",
       "      <td>48652.319791</td>\n",
       "      <td>49327.723184</td>\n",
       "      <td>3.950807e+10</td>\n",
       "      <td>9.275909e+11</td>\n",
       "      <td>3825.027724</td>\n",
       "      <td>3830.711365</td>\n",
       "      <td>3726.750474</td>\n",
       "      <td>...</td>\n",
       "      <td>-0.002966</td>\n",
       "      <td>0.349031</td>\n",
       "      <td>0.124238</td>\n",
       "      <td>-0.031881</td>\n",
       "      <td>0.201685</td>\n",
       "      <td>0.015138</td>\n",
       "      <td>1.783278e+12</td>\n",
       "      <td>26629.737655</td>\n",
       "      <td>26367.738479</td>\n",
       "      <td>0.009936</td>\n",
       "    </tr>\n",
       "    <tr>\n",
       "      <th>67</th>\n",
       "      <td>2021-09-01</td>\n",
       "      <td>47099.774869</td>\n",
       "      <td>49111.088788</td>\n",
       "      <td>46562.437449</td>\n",
       "      <td>48847.029074</td>\n",
       "      <td>3.913940e+10</td>\n",
       "      <td>9.185015e+11</td>\n",
       "      <td>3430.762343</td>\n",
       "      <td>3836.867394</td>\n",
       "      <td>3387.408568</td>\n",
       "      <td>...</td>\n",
       "      <td>0.062571</td>\n",
       "      <td>0.329648</td>\n",
       "      <td>0.060392</td>\n",
       "      <td>-0.002050</td>\n",
       "      <td>-0.133697</td>\n",
       "      <td>0.053443</td>\n",
       "      <td>1.772746e+12</td>\n",
       "      <td>26307.924208</td>\n",
       "      <td>25298.754681</td>\n",
       "      <td>0.039890</td>\n",
       "    </tr>\n",
       "  </tbody>\n",
       "</table>\n",
       "<p>68 rows × 124 columns</p>\n",
       "</div>"
      ],
      "text/plain": [
       "         Date      btc_Open      btc_High       btc_Low     btc_Close  \\\n",
       "0  2021-11-07  61554.921805  63326.989028  61432.489114  63326.989028   \n",
       "1  2021-11-06  61068.873447  61590.682429  60163.781549  61527.481793   \n",
       "2  2021-11-05  61460.079040  62541.467686  60844.607608  61125.674269   \n",
       "3  2021-11-04  62941.804035  63123.288915  60799.662475  61452.230587   \n",
       "4  2021-11-03  63254.334881  63516.937584  61184.240178  62970.047426   \n",
       "..        ...           ...           ...           ...           ...   \n",
       "63 2021-09-05  49937.858015  51868.681630  49538.598381  51753.411926   \n",
       "64 2021-09-04  50009.325096  50545.581012  49548.780451  49944.626906   \n",
       "65 2021-09-03  49288.249112  50982.271573  48386.086163  50025.374605   \n",
       "66 2021-09-02  48807.848862  50343.420705  48652.319791  49327.723184   \n",
       "67 2021-09-01  47099.774869  49111.088788  46562.437449  48847.029074   \n",
       "\n",
       "      btc_Volume  btc_Market Cap     eth_Open     eth_High      eth_Low  ...  \\\n",
       "0   2.472675e+10    1.194779e+12  4523.982161  4640.922037  4510.984411  ...   \n",
       "1   2.909493e+10    1.160769e+12  4482.647973  4530.996953  4334.973587  ...   \n",
       "2   3.060510e+10    1.153129e+12  4537.423370  4570.895951  4447.487296  ...   \n",
       "3   3.261585e+10    1.159231e+12  4604.678632  4606.516313  4426.622763  ...   \n",
       "4   3.612473e+10    1.187808e+12  4589.684616  4664.910076  4462.976107  ...   \n",
       "..           ...             ...          ...          ...          ...  ...   \n",
       "63  3.032268e+10    9.733549e+11  3886.330957  3979.186586  3838.487399  ...   \n",
       "64  3.747133e+10    9.392861e+11  3937.910226  3969.448739  3837.931054  ...   \n",
       "65  4.320618e+10    9.407572e+11  3787.486534  4022.469360  3712.678248  ...   \n",
       "66  3.950807e+10    9.275909e+11  3825.027724  3830.711365  3726.750474  ...   \n",
       "67  3.913940e+10    9.185015e+11  3430.762343  3836.867394  3387.408568  ...   \n",
       "\n",
       "    sand_returns  joe_returns  avax_returns  kar_returns  movr_returns  \\\n",
       "0      -0.008425     0.037089      0.112929     0.044648      0.027088   \n",
       "1       0.056255    -0.011121      0.059068    -0.032234     -0.041269   \n",
       "2      -0.046731    -0.091280     -0.059241    -0.011984     -0.111446   \n",
       "3      -0.159731     0.055796      0.049163    -0.065011      0.106700   \n",
       "4       0.058137     0.232695      0.112985    -0.007880      0.098788   \n",
       "..           ...          ...           ...          ...           ...   \n",
       "63     -0.017453    -0.030016      0.020639    -0.006432      0.011940   \n",
       "64     -0.007884     0.045911      0.027081     0.011425     -0.041689   \n",
       "65     -0.002359    -0.092067     -0.036506    -0.033753     -0.124957   \n",
       "66     -0.002966     0.349031      0.124238    -0.031881      0.201685   \n",
       "67      0.062571     0.329648      0.060392    -0.002050     -0.133697   \n",
       "\n",
       "    ygg_returns  combined marketcap         index    index open  index returns  \n",
       "0      0.010470        2.240523e+12  34937.716412  33968.896766       0.028521  \n",
       "1      0.001422        2.190581e+12  33747.744542  33493.078529       0.007604  \n",
       "2     -0.054657        2.168966e+12  33632.037983  33820.435688      -0.005571  \n",
       "3      0.063248        2.172594e+12  33943.211456  34754.853795      -0.023353  \n",
       "4     -0.055970        2.215618e+12  34924.791580  35071.528386      -0.004184  \n",
       "..          ...                 ...           ...           ...            ...  \n",
       "63    -0.037992        1.862560e+12  28057.361505  27091.752412       0.035642  \n",
       "64     0.011641        1.810101e+12  26924.168978  26970.113549      -0.001704  \n",
       "65    -0.034454        1.824675e+12  26817.028289  26397.488312       0.015893  \n",
       "66     0.015138        1.783278e+12  26629.737655  26367.738479       0.009936  \n",
       "67     0.053443        1.772746e+12  26307.924208  25298.754681       0.039890  \n",
       "\n",
       "[68 rows x 124 columns]"
      ]
     },
     "execution_count": 13,
     "metadata": {},
     "output_type": "execute_result"
    }
   ],
   "source": [
    "df_merged['index'] = (df_merged['btc_Close'] * df_merged['btc_Market Cap'] + df_merged['eth_Close'] * df_merged['eth_Market Cap'] + df_merged['bnb_Close'] * df_merged['bnb_Market Cap'] + df_merged['usdt_Close'] * df_merged['usdt_Market Cap'] + df_merged['ada_Close'] * df_merged['ada_Market Cap'] + df_merged['sol_Close'] * df_merged['sol_Market Cap'] + df_merged['xrp_Close'] * df_merged['xrp_Market Cap'] + df_merged['dot_Close'] * df_merged['dot_Market Cap'] + df_merged['shib_Close'] * df_merged['shib_Market Cap'] + df_merged['doge_Close'] * df_merged['doge_Market Cap'])/ df_merged['combined marketcap']\n",
    "df_merged['index open'] = (df_merged['btc_Open'] * df_merged['btc_Market Cap'] + df_merged['eth_Open'] * df_merged['eth_Market Cap'] + df_merged['bnb_Open'] * df_merged['bnb_Market Cap'] + df_merged['usdt_Open'] * df_merged['usdt_Market Cap'] + df_merged['ada_Open'] * df_merged['ada_Market Cap'] + df_merged['sol_Open'] * df_merged['sol_Market Cap'] + df_merged['xrp_Open'] * df_merged['xrp_Market Cap'] + df_merged['dot_Open'] * df_merged['dot_Market Cap'] + df_merged['shib_Open'] * df_merged['shib_Market Cap'] + df_merged['doge_Open'] * df_merged['doge_Market Cap'])/ df_merged['combined marketcap']\n",
    "df_merged['index returns'] = (df_merged['index'] - df_merged['index open'])/ df_merged['index open']\n",
    "df_merged.fillna(0)\n"
   ]
  },
  {
   "cell_type": "markdown",
   "metadata": {},
   "source": [
    "# Developing portfolio"
   ]
  },
  {
   "cell_type": "code",
   "execution_count": 14,
   "metadata": {},
   "outputs": [
    {
     "data": {
      "text/html": [
       "<div>\n",
       "<style scoped>\n",
       "    .dataframe tbody tr th:only-of-type {\n",
       "        vertical-align: middle;\n",
       "    }\n",
       "\n",
       "    .dataframe tbody tr th {\n",
       "        vertical-align: top;\n",
       "    }\n",
       "\n",
       "    .dataframe thead th {\n",
       "        text-align: right;\n",
       "    }\n",
       "</style>\n",
       "<table border=\"1\" class=\"dataframe\">\n",
       "  <thead>\n",
       "    <tr style=\"text-align: right;\">\n",
       "      <th></th>\n",
       "      <th>Date</th>\n",
       "      <th>kar_returns</th>\n",
       "      <th>movr_returns</th>\n",
       "      <th>eth_returns</th>\n",
       "      <th>avax_returns</th>\n",
       "      <th>sol_returns</th>\n",
       "      <th>dot_returns</th>\n",
       "      <th>ygg_returns</th>\n",
       "    </tr>\n",
       "  </thead>\n",
       "  <tbody>\n",
       "    <tr>\n",
       "      <th>0</th>\n",
       "      <td>2021-11-07</td>\n",
       "      <td>0.044648</td>\n",
       "      <td>0.027088</td>\n",
       "      <td>0.021347</td>\n",
       "      <td>0.112929</td>\n",
       "      <td>-0.034616</td>\n",
       "      <td>0.003884</td>\n",
       "      <td>0.010470</td>\n",
       "    </tr>\n",
       "    <tr>\n",
       "      <th>1</th>\n",
       "      <td>2021-11-06</td>\n",
       "      <td>-0.032234</td>\n",
       "      <td>-0.041269</td>\n",
       "      <td>0.008685</td>\n",
       "      <td>0.059068</td>\n",
       "      <td>0.094893</td>\n",
       "      <td>0.002761</td>\n",
       "      <td>0.001422</td>\n",
       "    </tr>\n",
       "    <tr>\n",
       "      <th>2</th>\n",
       "      <td>2021-11-05</td>\n",
       "      <td>-0.011984</td>\n",
       "      <td>-0.111446</td>\n",
       "      <td>-0.011280</td>\n",
       "      <td>-0.059241</td>\n",
       "      <td>-0.043663</td>\n",
       "      <td>-0.036807</td>\n",
       "      <td>-0.054657</td>\n",
       "    </tr>\n",
       "    <tr>\n",
       "      <th>3</th>\n",
       "      <td>2021-11-04</td>\n",
       "      <td>-0.065011</td>\n",
       "      <td>0.106700</td>\n",
       "      <td>-0.014627</td>\n",
       "      <td>0.049163</td>\n",
       "      <td>0.017647</td>\n",
       "      <td>0.010238</td>\n",
       "      <td>0.063248</td>\n",
       "    </tr>\n",
       "    <tr>\n",
       "      <th>4</th>\n",
       "      <td>2021-11-03</td>\n",
       "      <td>-0.007880</td>\n",
       "      <td>0.098788</td>\n",
       "      <td>0.003815</td>\n",
       "      <td>0.112985</td>\n",
       "      <td>0.098708</td>\n",
       "      <td>0.035089</td>\n",
       "      <td>-0.055970</td>\n",
       "    </tr>\n",
       "    <tr>\n",
       "      <th>...</th>\n",
       "      <td>...</td>\n",
       "      <td>...</td>\n",
       "      <td>...</td>\n",
       "      <td>...</td>\n",
       "      <td>...</td>\n",
       "      <td>...</td>\n",
       "      <td>...</td>\n",
       "      <td>...</td>\n",
       "    </tr>\n",
       "    <tr>\n",
       "      <th>63</th>\n",
       "      <td>2021-09-05</td>\n",
       "      <td>-0.006432</td>\n",
       "      <td>0.011940</td>\n",
       "      <td>0.016932</td>\n",
       "      <td>0.020639</td>\n",
       "      <td>0.022165</td>\n",
       "      <td>0.062537</td>\n",
       "      <td>-0.037992</td>\n",
       "    </tr>\n",
       "    <tr>\n",
       "      <th>64</th>\n",
       "      <td>2021-09-04</td>\n",
       "      <td>0.011425</td>\n",
       "      <td>-0.041689</td>\n",
       "      <td>-0.012718</td>\n",
       "      <td>0.027081</td>\n",
       "      <td>-0.049894</td>\n",
       "      <td>-0.034503</td>\n",
       "      <td>0.011641</td>\n",
       "    </tr>\n",
       "    <tr>\n",
       "      <th>65</th>\n",
       "      <td>2021-09-03</td>\n",
       "      <td>-0.033753</td>\n",
       "      <td>-0.124957</td>\n",
       "      <td>0.040430</td>\n",
       "      <td>-0.036506</td>\n",
       "      <td>0.141710</td>\n",
       "      <td>0.058914</td>\n",
       "      <td>-0.034454</td>\n",
       "    </tr>\n",
       "    <tr>\n",
       "      <th>66</th>\n",
       "      <td>2021-09-02</td>\n",
       "      <td>-0.031881</td>\n",
       "      <td>0.201685</td>\n",
       "      <td>-0.008899</td>\n",
       "      <td>0.124238</td>\n",
       "      <td>0.156877</td>\n",
       "      <td>-0.041364</td>\n",
       "      <td>0.015138</td>\n",
       "    </tr>\n",
       "    <tr>\n",
       "      <th>67</th>\n",
       "      <td>2021-09-01</td>\n",
       "      <td>-0.002050</td>\n",
       "      <td>-0.133697</td>\n",
       "      <td>0.117777</td>\n",
       "      <td>0.060392</td>\n",
       "      <td>0.033399</td>\n",
       "      <td>0.053571</td>\n",
       "      <td>0.053443</td>\n",
       "    </tr>\n",
       "  </tbody>\n",
       "</table>\n",
       "<p>68 rows × 8 columns</p>\n",
       "</div>"
      ],
      "text/plain": [
       "         Date  kar_returns  movr_returns  eth_returns  avax_returns  \\\n",
       "0  2021-11-07     0.044648      0.027088     0.021347      0.112929   \n",
       "1  2021-11-06    -0.032234     -0.041269     0.008685      0.059068   \n",
       "2  2021-11-05    -0.011984     -0.111446    -0.011280     -0.059241   \n",
       "3  2021-11-04    -0.065011      0.106700    -0.014627      0.049163   \n",
       "4  2021-11-03    -0.007880      0.098788     0.003815      0.112985   \n",
       "..        ...          ...           ...          ...           ...   \n",
       "63 2021-09-05    -0.006432      0.011940     0.016932      0.020639   \n",
       "64 2021-09-04     0.011425     -0.041689    -0.012718      0.027081   \n",
       "65 2021-09-03    -0.033753     -0.124957     0.040430     -0.036506   \n",
       "66 2021-09-02    -0.031881      0.201685    -0.008899      0.124238   \n",
       "67 2021-09-01    -0.002050     -0.133697     0.117777      0.060392   \n",
       "\n",
       "    sol_returns  dot_returns  ygg_returns  \n",
       "0     -0.034616     0.003884     0.010470  \n",
       "1      0.094893     0.002761     0.001422  \n",
       "2     -0.043663    -0.036807    -0.054657  \n",
       "3      0.017647     0.010238     0.063248  \n",
       "4      0.098708     0.035089    -0.055970  \n",
       "..          ...          ...          ...  \n",
       "63     0.022165     0.062537    -0.037992  \n",
       "64    -0.049894    -0.034503     0.011641  \n",
       "65     0.141710     0.058914    -0.034454  \n",
       "66     0.156877    -0.041364     0.015138  \n",
       "67     0.033399     0.053571     0.053443  \n",
       "\n",
       "[68 rows x 8 columns]"
      ]
     },
     "execution_count": 14,
     "metadata": {},
     "output_type": "execute_result"
    }
   ],
   "source": [
    "pfl = df_merged[['Date','kar_returns','movr_returns','eth_returns','avax_returns','sol_returns','dot_returns','ygg_returns']]\n",
    "pfl.fillna(0)"
   ]
  },
  {
   "cell_type": "markdown",
   "metadata": {},
   "source": [
    "# Finding Beta"
   ]
  },
  {
   "cell_type": "markdown",
   "metadata": {},
   "source": [
    "### Returns Linearity"
   ]
  },
  {
   "cell_type": "code",
   "execution_count": 15,
   "metadata": {},
   "outputs": [
    {
     "data": {
      "image/png": "[encoded data removed]",
      "text/plain": [
       "<Figure size 720x720 with 3 Axes>"
      ]
     },
     "metadata": {
      "needs_background": "light"
     },
     "output_type": "display_data"
    }
   ],
   "source": [
    "sns.jointplot(x=df_merged['kar_returns'], \n",
    "              y=df_merged['index returns'],\n",
    "              height=10,\n",
    "              kind=\"kde\",\n",
    "              marginal_kws={'lw':5,\n",
    "                                'color':'red'})\n",
    "plt.ylabel(\"Index returns\", fontsize=12)\n",
    "plt.xlabel(\"KAR returns\", fontsize=12)\n",
    "plt.title(\"Index vs KAR returns\", fontsize=15)\n",
    "plt.show()"
   ]
  },
  {
   "cell_type": "code",
   "execution_count": 16,
   "metadata": {},
   "outputs": [
    {
     "data": {
      "image/png": "[encoded data removed]",
      "text/plain": [
       "<Figure size 720x720 with 3 Axes>"
      ]
     },
     "metadata": {
      "needs_background": "light"
     },
     "output_type": "display_data"
    }
   ],
   "source": [
    "sns.jointplot(x=df_merged['movr_returns'], \n",
    "              y=df_merged['index returns'],\n",
    "              height=10,\n",
    "              kind=\"kde\",\n",
    "              marginal_kws={'lw':5,\n",
    "                                'color':'red'})\n",
    "plt.ylabel(\"Index returns\", fontsize=12)\n",
    "plt.xlabel(\"MOVR returns\", fontsize=12)\n",
    "plt.title(\"Index vs MOVR returns\", fontsize=15)\n",
    "plt.show()"
   ]
  },
  {
   "cell_type": "markdown",
   "metadata": {},
   "source": [
    "### Returns normality"
   ]
  },
  {
   "cell_type": "code",
   "execution_count": 17,
   "metadata": {},
   "outputs": [],
   "source": [
    "import scipy.stats as stats\n",
    "import pylab as pl"
   ]
  },
  {
   "cell_type": "code",
   "execution_count": 18,
   "metadata": {},
   "outputs": [
    {
     "data": {
      "image/png": "[encoded data removed]",
      "text/plain": [
       "<Figure size 432x288 with 1 Axes>"
      ]
     },
     "metadata": {
      "needs_background": "light"
     },
     "output_type": "display_data"
    }
   ],
   "source": [
    "m = pfl['kar_returns']\n",
    "\n",
    "pl.hist(m) \n",
    "\n",
    "pl.show()"
   ]
  },
  {
   "cell_type": "markdown",
   "metadata": {},
   "source": [
    "### MLR"
   ]
  },
  {
   "cell_type": "code",
   "execution_count": 21,
   "metadata": {},
   "outputs": [
    {
     "name": "stdout",
     "output_type": "stream",
     "text": [
      "Intercept: \n",
      " 0.001970525389859734\n",
      "Coefficients: \n",
      " [ 0.03135811 -0.00261015  0.56456665 -0.04066756 -0.0202568   0.06752579\n",
      "  0.04285441]\n"
     ]
    }
   ],
   "source": [
    "X = df_merged[['kar_returns','movr_returns','eth_returns','avax_returns','sol_returns','dot_returns','ygg_returns']]\n",
    "y = df_merged['index returns']\n",
    "\n",
    "regr = linear_model.LinearRegression()\n",
    "regr.fit(X, y)\n",
    "\n",
    "print('Intercept: \\n', regr.intercept_)\n",
    "print('Coefficients: \\n', regr.coef_)\n"
   ]
  },
  {
   "cell_type": "markdown",
   "metadata": {},
   "source": [
    "### Variance"
   ]
  },
  {
   "cell_type": "code",
   "execution_count": 23,
   "metadata": {},
   "outputs": [],
   "source": [
    "from statistics import variance"
   ]
  },
  {
   "cell_type": "code",
   "execution_count": 24,
   "metadata": {},
   "outputs": [
    {
     "name": "stdout",
     "output_type": "stream",
     "text": [
      "KAR variance: \n"
     ]
    },
    {
     "data": {
      "text/plain": [
       "1.5243754560393854"
      ]
     },
     "execution_count": 24,
     "metadata": {},
     "output_type": "execute_result"
    }
   ],
   "source": [
    "print(\"KAR variance: \")\n",
    "df_merged.var()['kar_Close']\n"
   ]
  },
  {
   "cell_type": "code",
   "execution_count": 25,
   "metadata": {},
   "outputs": [
    {
     "name": "stdout",
     "output_type": "stream",
     "text": [
      "MOVR variance: \n"
     ]
    },
    {
     "data": {
      "text/plain": [
       "6607.15876870336"
      ]
     },
     "execution_count": 25,
     "metadata": {},
     "output_type": "execute_result"
    }
   ],
   "source": [
    "print(\"MOVR variance: \")\n",
    "df_merged.var()['movr_Close']"
   ]
  },
  {
   "cell_type": "code",
   "execution_count": 26,
   "metadata": {},
   "outputs": [
    {
     "name": "stdout",
     "output_type": "stream",
     "text": [
      "ETH variance: \n"
     ]
    },
    {
     "data": {
      "text/plain": [
       "242747.5672232518"
      ]
     },
     "execution_count": 26,
     "metadata": {},
     "output_type": "execute_result"
    }
   ],
   "source": [
    "print(\"ETH variance: \")\n",
    "df_merged.var()['eth_Close']"
   ]
  },
  {
   "cell_type": "code",
   "execution_count": 27,
   "metadata": {},
   "outputs": [
    {
     "name": "stdout",
     "output_type": "stream",
     "text": [
      "avax variance: \n"
     ]
    },
    {
     "data": {
      "text/plain": [
       "99.63276895655636"
      ]
     },
     "execution_count": 27,
     "metadata": {},
     "output_type": "execute_result"
    }
   ],
   "source": [
    "print(\"avax variance: \")\n",
    "df_merged.var()['avax_Close']"
   ]
  },
  {
   "cell_type": "code",
   "execution_count": 28,
   "metadata": {},
   "outputs": [
    {
     "name": "stdout",
     "output_type": "stream",
     "text": [
      "SOL variance: \n"
     ]
    },
    {
     "data": {
      "text/plain": [
       "1024.5515403862964"
      ]
     },
     "execution_count": 28,
     "metadata": {},
     "output_type": "execute_result"
    }
   ],
   "source": [
    "print(\"SOL variance: \")\n",
    "df_merged.var()['sol_Close']"
   ]
  },
  {
   "cell_type": "code",
   "execution_count": 29,
   "metadata": {},
   "outputs": [
    {
     "name": "stdout",
     "output_type": "stream",
     "text": [
      "DOT variance: \n"
     ]
    },
    {
     "data": {
      "text/plain": [
       "54.50761328691117"
      ]
     },
     "execution_count": 29,
     "metadata": {},
     "output_type": "execute_result"
    }
   ],
   "source": [
    "print(\"DOT variance: \")\n",
    "df_merged.var()['dot_Close']"
   ]
  },
  {
   "cell_type": "code",
   "execution_count": 30,
   "metadata": {},
   "outputs": [
    {
     "name": "stdout",
     "output_type": "stream",
     "text": [
      "YGG variance: \n"
     ]
    },
    {
     "data": {
      "text/plain": [
       "0.8856649506388959"
      ]
     },
     "execution_count": 30,
     "metadata": {},
     "output_type": "execute_result"
    }
   ],
   "source": [
    "print(\"YGG variance: \")\n",
    "df_merged.var()['ygg_Close']"
   ]
  },
  {
   "cell_type": "markdown",
   "metadata": {},
   "source": [
    "# VaR"
   ]
  },
  {
   "cell_type": "code",
   "execution_count": 31,
   "metadata": {},
   "outputs": [],
   "source": [
    "# 37.5% movr 37.5% kar 0.15 eth\n",
    "weights = np.array([0.338,0.3298,0.1103,0.1065,0.1153,0.117,0.094])\n",
    "\n",
    "capital = 2501"
   ]
  },
  {
   "cell_type": "code",
   "execution_count": 32,
   "metadata": {},
   "outputs": [
    {
     "data": {
      "text/html": [
       "<div>\n",
       "<style scoped>\n",
       "    .dataframe tbody tr th:only-of-type {\n",
       "        vertical-align: middle;\n",
       "    }\n",
       "\n",
       "    .dataframe tbody tr th {\n",
       "        vertical-align: top;\n",
       "    }\n",
       "\n",
       "    .dataframe thead th {\n",
       "        text-align: right;\n",
       "    }\n",
       "</style>\n",
       "<table border=\"1\" class=\"dataframe\">\n",
       "  <thead>\n",
       "    <tr style=\"text-align: right;\">\n",
       "      <th></th>\n",
       "      <th>kar_returns</th>\n",
       "      <th>movr_returns</th>\n",
       "      <th>eth_returns</th>\n",
       "      <th>avax_returns</th>\n",
       "      <th>sol_returns</th>\n",
       "      <th>dot_returns</th>\n",
       "      <th>ygg_returns</th>\n",
       "    </tr>\n",
       "  </thead>\n",
       "  <tbody>\n",
       "    <tr>\n",
       "      <th>kar_returns</th>\n",
       "      <td>0.007602</td>\n",
       "      <td>0.003377</td>\n",
       "      <td>0.001892</td>\n",
       "      <td>0.003063</td>\n",
       "      <td>0.000961</td>\n",
       "      <td>0.004066</td>\n",
       "      <td>0.002994</td>\n",
       "    </tr>\n",
       "    <tr>\n",
       "      <th>movr_returns</th>\n",
       "      <td>0.003377</td>\n",
       "      <td>0.011318</td>\n",
       "      <td>0.000293</td>\n",
       "      <td>0.003560</td>\n",
       "      <td>0.002324</td>\n",
       "      <td>0.001978</td>\n",
       "      <td>0.001093</td>\n",
       "    </tr>\n",
       "    <tr>\n",
       "      <th>eth_returns</th>\n",
       "      <td>0.001892</td>\n",
       "      <td>0.000293</td>\n",
       "      <td>0.002105</td>\n",
       "      <td>0.001540</td>\n",
       "      <td>0.001453</td>\n",
       "      <td>0.002258</td>\n",
       "      <td>0.002149</td>\n",
       "    </tr>\n",
       "    <tr>\n",
       "      <th>avax_returns</th>\n",
       "      <td>0.003063</td>\n",
       "      <td>0.003560</td>\n",
       "      <td>0.001540</td>\n",
       "      <td>0.005852</td>\n",
       "      <td>0.001491</td>\n",
       "      <td>0.002648</td>\n",
       "      <td>0.002898</td>\n",
       "    </tr>\n",
       "    <tr>\n",
       "      <th>sol_returns</th>\n",
       "      <td>0.000961</td>\n",
       "      <td>0.002324</td>\n",
       "      <td>0.001453</td>\n",
       "      <td>0.001491</td>\n",
       "      <td>0.004643</td>\n",
       "      <td>0.001664</td>\n",
       "      <td>0.001091</td>\n",
       "    </tr>\n",
       "    <tr>\n",
       "      <th>dot_returns</th>\n",
       "      <td>0.004066</td>\n",
       "      <td>0.001978</td>\n",
       "      <td>0.002258</td>\n",
       "      <td>0.002648</td>\n",
       "      <td>0.001664</td>\n",
       "      <td>0.004708</td>\n",
       "      <td>0.002696</td>\n",
       "    </tr>\n",
       "    <tr>\n",
       "      <th>ygg_returns</th>\n",
       "      <td>0.002994</td>\n",
       "      <td>0.001093</td>\n",
       "      <td>0.002149</td>\n",
       "      <td>0.002898</td>\n",
       "      <td>0.001091</td>\n",
       "      <td>0.002696</td>\n",
       "      <td>0.008295</td>\n",
       "    </tr>\n",
       "  </tbody>\n",
       "</table>\n",
       "</div>"
      ],
      "text/plain": [
       "              kar_returns  movr_returns  eth_returns  avax_returns  \\\n",
       "kar_returns      0.007602      0.003377     0.001892      0.003063   \n",
       "movr_returns     0.003377      0.011318     0.000293      0.003560   \n",
       "eth_returns      0.001892      0.000293     0.002105      0.001540   \n",
       "avax_returns     0.003063      0.003560     0.001540      0.005852   \n",
       "sol_returns      0.000961      0.002324     0.001453      0.001491   \n",
       "dot_returns      0.004066      0.001978     0.002258      0.002648   \n",
       "ygg_returns      0.002994      0.001093     0.002149      0.002898   \n",
       "\n",
       "              sol_returns  dot_returns  ygg_returns  \n",
       "kar_returns      0.000961     0.004066     0.002994  \n",
       "movr_returns     0.002324     0.001978     0.001093  \n",
       "eth_returns      0.001453     0.002258     0.002149  \n",
       "avax_returns     0.001491     0.002648     0.002898  \n",
       "sol_returns      0.004643     0.001664     0.001091  \n",
       "dot_returns      0.001664     0.004708     0.002696  \n",
       "ygg_returns      0.001091     0.002696     0.008295  "
      ]
     },
     "execution_count": 32,
     "metadata": {},
     "output_type": "execute_result"
    }
   ],
   "source": [
    "cov_matrix = pfl.cov()\n",
    "cov_matrix"
   ]
  },
  {
   "cell_type": "code",
   "execution_count": 33,
   "metadata": {},
   "outputs": [
    {
     "data": {
      "text/plain": [
       "kar_returns     0.003141\n",
       "movr_returns    0.018148\n",
       "eth_returns     0.005687\n",
       "avax_returns    0.014397\n",
       "sol_returns     0.012857\n",
       "dot_returns     0.009821\n",
       "ygg_returns     0.002112\n",
       "dtype: float64"
      ]
     },
     "execution_count": 33,
     "metadata": {},
     "output_type": "execute_result"
    }
   ],
   "source": [
    "ind_mean = pfl.mean()\n",
    "ind_mean"
   ]
  },
  {
   "cell_type": "code",
   "execution_count": 34,
   "metadata": {},
   "outputs": [],
   "source": [
    "# Calculate portfolio standard deviation\n",
    "port_stdev = np.sqrt(weights.T.dot(cov_matrix).dot(weights))\n",
    " \n",
    "# Calculate mean of investment\n",
    "mean_investment = (1+ind_mean) * capital\n",
    "             \n",
    "# Calculate standard deviation of investmnet\n",
    "stdev_investment = capital * port_stdev"
   ]
  },
  {
   "cell_type": "code",
   "execution_count": 35,
   "metadata": {},
   "outputs": [],
   "source": [
    "pfl_mean = ind_mean.dot(weights)\n",
    "pfl_stddev = np.sqrt(weights.T.dot(cov_matrix).dot(weights))\n",
    "mean_investment = (1+pfl_mean) * capital\n",
    "stdev_investment = capital * pfl_stddev"
   ]
  },
  {
   "cell_type": "code",
   "execution_count": 36,
   "metadata": {},
   "outputs": [
    {
     "name": "stdout",
     "output_type": "stream",
     "text": [
      "Portfolio will not lose more than:\n",
      "$ 267.26216816175247 or 10.68621224157347 % today\n"
     ]
    }
   ],
   "source": [
    "conf_level = 0.05\n",
    "\n",
    "inv = norm.ppf(conf_level, mean_investment, stdev_investment)\n",
    "var_1 = capital - inv\n",
    "percentage_var = var_1 *100 / capital\n",
    "print('Portfolio will not lose more than:') \n",
    "print('$', var_1, 'or', percentage_var, '%' ' today') "
   ]
  },
  {
   "cell_type": "code",
   "execution_count": 37,
   "metadata": {},
   "outputs": [
    {
     "name": "stdout",
     "output_type": "stream",
     "text": [
      "1 day VaR @ 95% confidence: 267.26\n",
      "2 day VaR @ 95% confidence: 377.97\n",
      "3 day VaR @ 95% confidence: 462.91\n",
      "4 day VaR @ 95% confidence: 534.52\n",
      "5 day VaR @ 95% confidence: 597.62\n",
      "6 day VaR @ 95% confidence: 654.66\n",
      "7 day VaR @ 95% confidence: 707.11\n",
      "8 day VaR @ 95% confidence: 755.93\n",
      "9 day VaR @ 95% confidence: 801.79\n",
      "10 day VaR @ 95% confidence: 845.16\n",
      "11 day VaR @ 95% confidence: 886.41\n",
      "12 day VaR @ 95% confidence: 925.82\n",
      "13 day VaR @ 95% confidence: 963.63\n",
      "14 day VaR @ 95% confidence: 1000.0\n",
      "15 day VaR @ 95% confidence: 1035.1\n",
      "16 day VaR @ 95% confidence: 1069.05\n",
      "17 day VaR @ 95% confidence: 1101.95\n",
      "18 day VaR @ 95% confidence: 1133.9\n",
      "19 day VaR @ 95% confidence: 1164.97\n",
      "20 day VaR @ 95% confidence: 1195.23\n",
      "21 day VaR @ 95% confidence: 1224.75\n",
      "22 day VaR @ 95% confidence: 1253.57\n",
      "23 day VaR @ 95% confidence: 1281.74\n",
      "24 day VaR @ 95% confidence: 1309.31\n",
      "25 day VaR @ 95% confidence: 1336.31\n",
      "26 day VaR @ 95% confidence: 1362.78\n",
      "27 day VaR @ 95% confidence: 1388.73\n",
      "28 day VaR @ 95% confidence: 1414.22\n",
      "29 day VaR @ 95% confidence: 1439.25\n",
      "30 day VaR @ 95% confidence: 1463.86\n"
     ]
    },
    {
     "data": {
      "text/plain": [
       "[<matplotlib.lines.Line2D at 0x7fd979f560d0>]"
      ]
     },
     "execution_count": 37,
     "metadata": {},
     "output_type": "execute_result"
    },
    {
     "data": {
      "image/png": "[encoded data removed]",
      "text/plain": [
       "<Figure size 432x288 with 1 Axes>"
      ]
     },
     "metadata": {
      "needs_background": "light"
     },
     "output_type": "display_data"
    }
   ],
   "source": [
    "var_array = []\n",
    "num_days = int(30)\n",
    "for x in range(1, num_days+1):    \n",
    "    var_array.append(np.round(var_1 * np.sqrt(x),2))\n",
    "    print(str(x) + \" day VaR @ 95% confidence: \" + str(np.round(var_1 * np.sqrt(x),2)))\n",
    "\n",
    "# Build plot\n",
    "plt.xlabel(\"Day #\")\n",
    "plt.ylabel(\"Max portfolio loss (USD)\")\n",
    "plt.title(\"Max portfolio loss (VaR) over 30-day period\")\n",
    "plt.plot(var_array, \"r\")"
   ]
  },
  {
   "cell_type": "markdown",
   "metadata": {},
   "source": [
    "# ARIMA\n",
    "\n",
    "Daily ARIMA of Crypto market"
   ]
  },
  {
   "cell_type": "code",
   "execution_count": null,
   "metadata": {},
   "outputs": [],
   "source": [
    "from statsmodels.tsa.stattools import adfuller\n",
    "from numpy import log"
   ]
  },
  {
   "cell_type": "code",
   "execution_count": null,
   "metadata": {},
   "outputs": [],
   "source": [
    "index = df_merged['index']"
   ]
  },
  {
   "cell_type": "markdown",
   "metadata": {},
   "source": [
    "#### testing for stationary\n",
    "\n",
    "if p < 0.05, reject null and indeed stationary"
   ]
  },
  {
   "cell_type": "code",
   "execution_count": null,
   "metadata": {},
   "outputs": [],
   "source": [
    "result = adfuller(index.dropna())\n",
    "print('ADF Statistic: %f' % result[0])\n",
    "print('p-value: %f' % result[1])"
   ]
  },
  {
   "cell_type": "markdown",
   "metadata": {},
   "source": [
    "Crypto market is not stationary"
   ]
  },
  {
   "cell_type": "code",
   "execution_count": null,
   "metadata": {},
   "outputs": [],
   "source": [
    "from statsmodels.graphics.tsaplots import plot_acf, plot_pacf\n",
    "\n",
    "plt.rcParams.update({'figure.figsize':(9,7), 'figure.dpi':120})\n",
    "\n",
    "# Original Series\n",
    "fig, axes = plt.subplots(3, 2, sharex=True)\n",
    "axes[0, 0].plot(index); axes[0, 0].set_title('Original Series')\n",
    "plot_acf(index, lags = 50)\n",
    "\n",
    "# 1st Differencing\n",
    "axes[1, 0].plot(index.diff()); axes[1, 0].set_title('1st Order Differencing')\n",
    "plot_acf(index.diff().dropna(), lags = 50)\n",
    "\n",
    "# 2nd Differencing\n",
    "axes[2, 0].plot(index.diff().diff()); axes[2, 0].set_title('2nd Order Differencing')\n",
    "plot_acf(index.diff().diff().dropna(), lags = 50)\n",
    "\n",
    "plt.show()"
   ]
  },
  {
   "cell_type": "markdown",
   "metadata": {},
   "source": [
    "1st differentiating weak stationarity"
   ]
  },
  {
   "cell_type": "code",
   "execution_count": null,
   "metadata": {},
   "outputs": [],
   "source": [
    "pip install pmdarima"
   ]
  },
  {
   "cell_type": "code",
   "execution_count": null,
   "metadata": {},
   "outputs": [],
   "source": [
    "from pmdarima.arima.utils import ndiffs\n",
    "\n",
    "y = index\n",
    "\n",
    "## Adf Test\n",
    "ndiffs(y, test='adf')  # 2\n",
    "\n",
    "# KPSS test\n",
    "ndiffs(y, test='kpss')  # 0\n",
    "\n",
    "# PP test:\n",
    "ndiffs(y, test='pp')  # 2"
   ]
  },
  {
   "cell_type": "code",
   "execution_count": null,
   "metadata": {},
   "outputs": [],
   "source": [
    "plt.rcParams.update({'figure.figsize':(9,3), 'figure.dpi':120})\n",
    "\n",
    "fig, axes = plt.subplots(1, 2, sharex=True)\n",
    "axes[0].plot(index.diff()); axes[0].set_title('1st Differencing')\n",
    "\n",
    "axes[1].set(ylim=(0,5))\n",
    "plot_pacf(index.diff().dropna(), lags = 50)\n",
    "\n",
    "\n",
    "plt.show()"
   ]
  },
  {
   "cell_type": "code",
   "execution_count": null,
   "metadata": {},
   "outputs": [],
   "source": [
    "from statsmodels.tsa.arima_model import ARIMA\n",
    "\n",
    "# 1,1,2 ARIMA Model\n",
    "model = ARIMA(index, order=(1,1,2))\n",
    "model_fit = model.fit(disp=0)\n",
    "print(model_fit.summary())"
   ]
  },
  {
   "cell_type": "code",
   "execution_count": null,
   "metadata": {},
   "outputs": [],
   "source": []
  },
  {
   "cell_type": "code",
   "execution_count": null,
   "metadata": {},
   "outputs": [],
   "source": [
    "residuals = pd.DataFrame(model_fit.resid)\n",
    "fig, ax = plt.subplots(1,2)\n",
    "residuals.plot(title=\"Residuals\", ax=ax[0])\n",
    "residuals.plot(kind='kde', title='Density', ax=ax[1])\n",
    "plt.show()"
   ]
  },
  {
   "cell_type": "code",
   "execution_count": null,
   "metadata": {},
   "outputs": [],
   "source": [
    "model_fit.plot_predict(dynamic=False)\n",
    "plt.show()"
   ]
  },
  {
   "cell_type": "code",
   "execution_count": null,
   "metadata": {},
   "outputs": [],
   "source": [
    "from statsmodels.tsa.stattools import acf\n",
    "\n",
    "train = index[:85]\n",
    "test = index[85:]"
   ]
  },
  {
   "cell_type": "code",
   "execution_count": null,
   "metadata": {},
   "outputs": [],
   "source": [
    "# Build Model\n",
    "# model = ARIMA(train, order=(3,2,1))  \n",
    "model = ARIMA(train, order=(1, 1, 1))  \n",
    "fitted = model.fit(disp=-1)  \n",
    "print(fitted.summary())\n",
    "\n",
    "# Forecast\n",
    "fc, se, conf = fitted.forecast(0, alpha=0.05)  # 95% conf\n",
    "\n",
    "# Make as pandas series\n",
    "fc_series = pd.Series(fc, index=test.index)\n",
    "lower_series = pd.Series(conf[:, 0], index=test.index)\n",
    "upper_series = pd.Series(conf[:, 1], index=test.index)\n",
    "\n",
    "# Plot\n",
    "plt.figure(figsize=(12,5), dpi=100)\n",
    "plt.plot(train, label='training')\n",
    "plt.plot(test, label='actual')\n",
    "plt.plot(fc_series, label='forecast')\n",
    "plt.fill_between(lower_series.index, lower_series, upper_series, \n",
    "                 color='k', alpha=.15)\n",
    "plt.title('Forecast vs Actuals')\n",
    "plt.legend(loc='upper left', fontsize=8)\n",
    "plt.show()"
   ]
  },
  {
   "cell_type": "code",
   "execution_count": null,
   "metadata": {},
   "outputs": [],
   "source": [
    "# Build Model\n",
    "model = ARIMA(train, order=(3, 2, 1))  \n",
    "fitted = model.fit(disp=-1)  \n",
    "print(fitted.summary())\n",
    "\n",
    "# Forecast\n",
    "fc, se, conf = fitted.forecast(0, alpha=0.05)  # 95% conf\n",
    "\n",
    "# Make as pandas series\n",
    "fc_series = pd.Series(fc, index=test.index)\n",
    "lower_series = pd.Series(conf[:, 0], index=test.index)\n",
    "upper_series = pd.Series(conf[:, 1], index=test.index)\n",
    "\n",
    "# Plot\n",
    "plt.figure(figsize=(12,5), dpi=100)\n",
    "plt.plot(train, label='training')\n",
    "plt.plot(test, label='actual')\n",
    "plt.plot(fc_series, label='forecast')\n",
    "plt.fill_between(lower_series.index, lower_series, upper_series, \n",
    "                 color='k', alpha=.15)\n",
    "plt.title('Forecast vs Actuals')\n",
    "plt.legend(loc='upper left', fontsize=8)\n",
    "plt.show()"
   ]
  },
  {
   "cell_type": "markdown",
   "metadata": {},
   "source": [
    "# Fear and Greed index"
   ]
  },
  {
   "cell_type": "code",
   "execution_count": null,
   "metadata": {},
   "outputs": [],
   "source": [
    "pip install requests"
   ]
  },
  {
   "cell_type": "code",
   "execution_count": null,
   "metadata": {},
   "outputs": [],
   "source": [
    "import requests"
   ]
  },
  {
   "cell_type": "code",
   "execution_count": null,
   "metadata": {},
   "outputs": [],
   "source": [
    "import json \n",
    "\n",
    "r = requests.get('https://api.alternative.me/fng/?limit=0')\n",
    "json = r.json()\n"
   ]
  },
  {
   "cell_type": "code",
   "execution_count": null,
   "metadata": {},
   "outputs": [],
   "source": [
    "json.keys()"
   ]
  },
  {
   "cell_type": "code",
   "execution_count": null,
   "metadata": {},
   "outputs": [],
   "source": [
    "fng = pd.DataFrame(json['data'])\n",
    "fng_value = fng[['timestamp','value']]\n",
    "fng_value"
   ]
  },
  {
   "cell_type": "code",
   "execution_count": null,
   "metadata": {},
   "outputs": [],
   "source": [
    "from datetime import datetime\n",
    "timestamp = fng['timestamp']\n",
    "#unix_conversion = datetime.fromtimestamp(timestamp).strftime('%Y-%m-%d %H:%M:%S')\n",
    "#print(datetime.utcfromtimestamp(timestamp).strftime('%Y-%m-%d %H:%M:%S'))\n",
    "fng['Date'] = pd.to_datetime(fng['timestamp'],unit='s')\n",
    "fng"
   ]
  },
  {
   "cell_type": "code",
   "execution_count": null,
   "metadata": {},
   "outputs": [],
   "source": [
    "fng_reg = [df_merged,fng]\n",
    "\n",
    "df_reg = reduce(lambda  left,right: pd.merge(left,right,on=['Date'],\n",
    "                                            how='outer'), fng_reg)\n",
    "df_reg = df_merged[df_merged['Date']>='2021-03-01']\n",
    "df_reg"
   ]
  },
  {
   "cell_type": "code",
   "execution_count": null,
   "metadata": {},
   "outputs": [],
   "source": [
    "x = df_reg['Date']\n",
    "y1 = df_reg['value']\n",
    "\n",
    "y2 = df_reg['index']\n",
    "\n",
    " \n",
    "fig, ax1 = plt.subplots()\n",
    "\n",
    "ax2 = ax1.twinx()\n",
    "ax1.plot(x, y1, 'y-')\n",
    "ax2.plot(x, y2, 'b-')\n",
    "\n",
    "ax1.set_xlabel('Date')\n",
    "ax1.set_ylabel('Fear & Greed', color='r')\n",
    "ax2.set_ylabel('Crypto Index', color='b')\n",
    "\n",
    "plt.show()"
   ]
  },
  {
   "cell_type": "markdown",
   "metadata": {},
   "source": [
    "# 3D observations"
   ]
  },
  {
   "cell_type": "code",
   "execution_count": null,
   "metadata": {},
   "outputs": [],
   "source": [
    "three_d = plt.axes(projection='3d')\n",
    "\n",
    "sol_returns = df_reg['index returns']\n",
    "avax_returns = df_reg['index']\n",
    "val = df_reg['value']\n",
    "\n",
    "# Data for three-dimensional scattered points\n",
    "zdata = index\n",
    "xdata = val\n",
    "ydata = sol_returns\n",
    "three_d.scatter3D(xdata, ydata, zdata, c=zdata, cmap='CMRmap_r');"
   ]
  },
  {
   "cell_type": "code",
   "execution_count": null,
   "metadata": {},
   "outputs": [],
   "source": [
    "ax = plt.axes(projection='3d')\n",
    "ax.plot_trisurf(xdata, ydata, zdata, cmap='viridis', edgecolor='none');"
   ]
  },
  {
   "cell_type": "code",
   "execution_count": null,
   "metadata": {},
   "outputs": [],
   "source": []
  }
 ],
 "metadata": {
  "kernelspec": {
   "display_name": "Python 3",
   "language": "python",
   "name": "python3"
  },
  "language_info": {
   "codemirror_mode": {
    "name": "ipython",
    "version": 3
   },
   "file_extension": ".py",
   "mimetype": "text/x-python",
   "name": "python",
   "nbconvert_exporter": "python",
   "pygments_lexer": "ipython3",
   "version": "3.8.3"
  }
 },
 "nbformat": 4,
 "nbformat_minor": 4
}
